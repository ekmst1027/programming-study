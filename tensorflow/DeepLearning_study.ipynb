{
 "cells": [
  {
   "cell_type": "code",
   "execution_count": 1,
   "metadata": {},
   "outputs": [
    {
     "data": {
      "text/plain": [
       "'1.6.0'"
      ]
     },
     "execution_count": 1,
     "metadata": {},
     "output_type": "execute_result"
    }
   ],
   "source": [
    "### python 3.5 version\n",
    "### virtualEnv_name is helloTF\n",
    "\n",
    "import tensorflow as tf\n",
    "tf.__version__"
   ]
  },
  {
   "cell_type": "code",
   "execution_count": 2,
   "metadata": {},
   "outputs": [
    {
     "name": "stdout",
     "output_type": "stream",
     "text": [
      "b'Hello, TensorFlow!'\n"
     ]
    }
   ],
   "source": [
    "# Create a constant op\n",
    "# This op is added as a node to the default graph\n",
    "hello = tf.constant(\"Hello, TensorFlow!\")\n",
    "\n",
    "# seart a TF session\n",
    "sess = tf.Session()\n",
    "\n",
    "# run the op and get result\n",
    "print(sess.run(hello))"
   ]
  },
  {
   "cell_type": "code",
   "execution_count": 3,
   "metadata": {
    "collapsed": true
   },
   "outputs": [],
   "source": [
    "## 더하기 예제\n",
    "# Build graph (tensor) using TensorFlow operations\n",
    "node1 = tf.constant(3.0, tf.float32)\n",
    "node2 = tf.constant(4.0) # also tf.float32 implicitly\n",
    "node3 = tf.add(node1, node2)"
   ]
  },
  {
   "cell_type": "code",
   "execution_count": 4,
   "metadata": {},
   "outputs": [
    {
     "name": "stdout",
     "output_type": "stream",
     "text": [
      "node1: Tensor(\"Const_1:0\", shape=(), dtype=float32) node2: Tensor(\"Const_2:0\", shape=(), dtype=float32)\n",
      "node3: Tensor(\"Add:0\", shape=(), dtype=float32)\n"
     ]
    }
   ],
   "source": [
    "print(\"node1: {} node2: {}\".format(node1,node2))\n",
    "print(\"node3: {}\".format(node3))"
   ]
  },
  {
   "cell_type": "code",
   "execution_count": 5,
   "metadata": {},
   "outputs": [
    {
     "name": "stdout",
     "output_type": "stream",
     "text": [
      "sess.run(node1, node2): \n",
      "sess.run(node3):  7.0\n"
     ]
    }
   ],
   "source": [
    "# feed data and run graph (operation) sess.run(op)\n",
    "sess = tf.Session() \n",
    "print(\"sess.run(node1, node2): \".format(sess.run([node1, node2])))\n",
    "print(\"sess.run(node3): \", sess.run(node3))"
   ]
  },
  {
   "cell_type": "code",
   "execution_count": 6,
   "metadata": {},
   "outputs": [
    {
     "name": "stdout",
     "output_type": "stream",
     "text": [
      "7.5\n",
      "[3. 7.]\n"
     ]
    }
   ],
   "source": [
    "# placeholder(상수가 아닌 변수를 만들어줌)\n",
    "a = tf.placeholder(tf.float32)\n",
    "b = tf.placeholder(tf.float32)\n",
    "adder_node = a + b # + provides a shortcut for tf.add(a,b)\n",
    "\n",
    "print(sess.run(adder_node, feed_dict={a: 3, b:4.5}))\n",
    "print(sess.run(adder_node, feed_dict={a:[1,3], b:[2,4]}))"
   ]
  },
  {
   "cell_type": "code",
   "execution_count": 7,
   "metadata": {
    "collapsed": true
   },
   "outputs": [],
   "source": [
    "### Lab2\n",
    "### Linear Regression\n",
    "\n",
    "## 1. Build graph using TF operations\n",
    "# X and Y data\n",
    "x_train = [1, 2, 3]\n",
    "y_train = [1, 2, 3]\n",
    "\n",
    "# tf.Variable의 의미는 tesnsorflow가 사용하는 변수라는 의미 or trainable variable\n",
    "w = tf.Variable(tf.random_normal([1]), name='weight') # 1차원 array에 대한 랜덤값을 넣어줌\n",
    "b = tf.Variable(tf.random_normal([1]), name='bias')\n",
    "# Our hypothesis Xw+b\n",
    "hypothesis = x_train * w + b"
   ]
  },
  {
   "cell_type": "code",
   "execution_count": 8,
   "metadata": {
    "collapsed": true
   },
   "outputs": [],
   "source": [
    "# cost/loss funtion\n",
    "cost = tf.reduce_mean(tf.square(hypothesis - y_train)) # 평균을 내줌"
   ]
  },
  {
   "cell_type": "code",
   "execution_count": 9,
   "metadata": {
    "collapsed": true
   },
   "outputs": [],
   "source": [
    "# Minimize(GradientDescent)\n",
    "optimizer = tf.train.GradientDescentOptimizer(learning_rate=0.01)\n",
    "train = optimizer.minimize(cost)"
   ]
  },
  {
   "cell_type": "code",
   "execution_count": 10,
   "metadata": {},
   "outputs": [
    {
     "name": "stdout",
     "output_type": "stream",
     "text": [
      "0 2.3425152 [0.08517604] [0.49376628]\n",
      "20 0.09396756 [0.6295492] [0.69111884]\n",
      "40 0.06690525 [0.69469994] [0.6796402]\n",
      "60 0.060597274 [0.7135939] [0.6496993]\n",
      "80 0.055033907 [0.7274868] [0.6193563]\n",
      "100 0.049982663 [0.7403351] [0.590267]\n",
      "120 0.04539506 [0.75254226] [0.5625284]\n",
      "140 0.041228488 [0.7641722] [0.53609174]\n",
      "160 0.03744441 [0.77525526] [0.51089746]\n",
      "180 0.034007605 [0.7858175] [0.48688716]\n",
      "200 0.030886238 [0.7958833] [0.46400526]\n",
      "220 0.028051397 [0.80547595] [0.4421987]\n",
      "240 0.02547673 [0.81461793] [0.42141703]\n",
      "260 0.023138365 [0.8233302] [0.40161204]\n",
      "280 0.021014668 [0.831633] [0.38273776]\n",
      "300 0.019085841 [0.83954567] [0.36475044]\n",
      "320 0.01733406 [0.8470864] [0.34760854]\n",
      "340 0.015743079 [0.8542728] [0.3312722]\n",
      "360 0.0142981075 [0.8611214] [0.3157036]\n",
      "380 0.012985772 [0.8676483] [0.30086666]\n",
      "400 0.011793879 [0.87386835] [0.28672698]\n",
      "420 0.01071138 [0.879796] [0.27325183]\n",
      "440 0.009728243 [0.8854452] [0.26040995]\n",
      "460 0.008835348 [0.89082885] [0.24817172]\n",
      "480 0.008024416 [0.8959594] [0.2365086]\n",
      "500 0.0072879028 [0.900849] [0.2253936]\n",
      "520 0.0066189948 [0.9055087] [0.21480094]\n",
      "540 0.006011465 [0.9099494] [0.20470609]\n",
      "560 0.005459713 [0.9141815] [0.19508569]\n",
      "580 0.004958605 [0.91821456] [0.18591739]\n",
      "600 0.0045034834 [0.9220583] [0.17717996]\n",
      "620 0.00409014 [0.92572117] [0.16885312]\n",
      "640 0.003714729 [0.92921215] [0.16091764]\n",
      "660 0.0033737672 [0.9325388] [0.15335506]\n",
      "680 0.0030641146 [0.93570924] [0.14614797]\n",
      "700 0.0027828773 [0.93873066] [0.13927956]\n",
      "720 0.0025274528 [0.9416101] [0.13273396]\n",
      "740 0.0022954775 [0.94435424] [0.12649594]\n",
      "760 0.0020847826 [0.94696933] [0.1205511]\n",
      "780 0.0018934378 [0.9494616] [0.11488565]\n",
      "800 0.0017196463 [0.9518367] [0.10948647]\n",
      "820 0.0015618121 [0.95410025] [0.10434101]\n",
      "840 0.0014184631 [0.95625734] [0.09943736]\n",
      "860 0.0012882749 [0.958313] [0.0947642]\n",
      "880 0.0011700373 [0.9602722] [0.09031069]\n",
      "900 0.001062637 [0.96213925] [0.08606642]\n",
      "920 0.00096510694 [0.9639185] [0.08202162]\n",
      "940 0.0008765263 [0.96561426] [0.07816692]\n",
      "960 0.00079607527 [0.96723026] [0.07449336]\n",
      "980 0.00072301057 [0.9687704] [0.07099243]\n",
      "1000 0.00065664895 [0.9702381] [0.06765601]\n",
      "1020 0.00059637526 [0.9716368] [0.06447639]\n",
      "1040 0.000541641 [0.9729697] [0.06144621]\n",
      "1060 0.0004919276 [0.97424] [0.05855848]\n",
      "1080 0.00044677223 [0.97545063] [0.05580645]\n",
      "1100 0.00040576697 [0.9766044] [0.05318373]\n",
      "1120 0.0003685245 [0.97770387] [0.05068429]\n",
      "1140 0.00033469903 [0.97875166] [0.04830233]\n",
      "1160 0.00030398025 [0.9797504] [0.04603228]\n",
      "1180 0.00027607806 [0.98070204] [0.04386887]\n",
      "1200 0.00025073675 [0.9816089] [0.04180716]\n",
      "1220 0.00022772556 [0.98247325] [0.0398424]\n",
      "1240 0.00020682276 [0.98329693] [0.03796997]\n",
      "1260 0.00018784188 [0.9840819] [0.03618554]\n",
      "1280 0.00017059996 [0.98482996] [0.03448497]\n",
      "1300 0.00015494123 [0.9855429] [0.03286433]\n",
      "1320 0.00014071965 [0.9862223] [0.03131984]\n",
      "1340 0.00012780592 [0.9868698] [0.02984793]\n",
      "1360 0.000116072806 [0.98748696] [0.02844518]\n",
      "1380 0.00010542072 [0.98807496] [0.02710835]\n",
      "1400 9.574514e-05 [0.9886354] [0.02583438]\n",
      "1420 8.695793e-05 [0.9891695] [0.02462027]\n",
      "1440 7.8976336e-05 [0.9896784] [0.02346324]\n",
      "1460 7.172762e-05 [0.9901636] [0.02236059]\n",
      "1480 6.514371e-05 [0.9906259] [0.02130966]\n",
      "1500 5.9163867e-05 [0.99106646] [0.02030815]\n",
      "1520 5.373423e-05 [0.9914863] [0.01935371]\n",
      "1540 4.8801758e-05 [0.99188644] [0.01844413]\n",
      "1560 4.432166e-05 [0.9922677] [0.0175773]\n",
      "1580 4.025421e-05 [0.99263114] [0.01675122]\n",
      "1600 3.6559075e-05 [0.99297744] [0.01596397]\n",
      "1620 3.3204382e-05 [0.9933075] [0.0152137]\n",
      "1640 3.0156012e-05 [0.993622] [0.0144987]\n",
      "1660 2.7389067e-05 [0.9939217] [0.01381731]\n",
      "1680 2.4874893e-05 [0.9942074] [0.01316797]\n",
      "1700 2.2591068e-05 [0.99447966] [0.01254909]\n",
      "1720 2.0517882e-05 [0.99473906] [0.01195934]\n",
      "1740 1.8634564e-05 [0.9949864] [0.01139727]\n",
      "1760 1.6924512e-05 [0.995222] [0.0108616]\n",
      "1780 1.537043e-05 [0.9954465] [0.01035115]\n",
      "1800 1.3960141e-05 [0.9956605] [0.00986469]\n",
      "1820 1.2678291e-05 [0.99586445] [0.00940108]\n",
      "1840 1.1515277e-05 [0.9960588] [0.00895927]\n",
      "1860 1.0457813e-05 [0.996244] [0.00853823]\n",
      "1880 9.498131e-06 [0.99642056] [0.00813696]\n",
      "1900 8.626136e-06 [0.99658877] [0.00775454]\n",
      "1920 7.834832e-06 [0.9967491] [0.00739008]\n",
      "1940 7.1155787e-06 [0.99690187] [0.00704277]\n",
      "1960 6.462656e-06 [0.9970474] [0.00671179]\n",
      "1980 5.8692963e-06 [0.99718624] [0.00639637]\n",
      "2000 5.3307067e-06 [0.99731845] [0.00609576]\n"
     ]
    }
   ],
   "source": [
    "## 2. Run/update graph and get results\n",
    "# Launch the graph in a session\n",
    "sess = tf.Session()\n",
    "# Initializes global variables in the graph - 사용하기 전에 변수 초기화가 필요함.\n",
    "sess.run(tf.global_variables_initializer())\n",
    "\n",
    "# Fit the line\n",
    "for step in range(2001):\n",
    "    sess.run(train)\n",
    "    if step % 20 == 0:\n",
    "        print(step, sess.run(cost), sess.run(w), sess.run(b))"
   ]
  },
  {
   "cell_type": "code",
   "execution_count": 11,
   "metadata": {},
   "outputs": [
    {
     "name": "stdout",
     "output_type": "stream",
     "text": [
      "0 1.39097 [0.99952626] [2.0325687]\n",
      "20 0.12011383 [0.77686006] [1.9098105]\n",
      "40 0.10487388 [0.79046774] [1.8564967]\n",
      "60 0.09158716 [0.8041857] [1.8069518]\n",
      "80 0.079983614 [0.81700975] [1.7606527]\n",
      "100 0.06985028 [0.828994] [1.717386]\n",
      "120 0.061000835 [0.8401933] [1.676953]\n",
      "140 0.05327248 [0.85065913] [1.6391677]\n",
      "160 0.046523236 [0.8604396] [1.6038572]\n",
      "180 0.040629134 [0.8695795] [1.5708592]\n",
      "200 0.03548169 [0.87812084] [1.5400224]\n",
      "220 0.03098644 [0.8861028] [1.5112048]\n",
      "240 0.027060676 [0.893562] [1.4842746]\n",
      "260 0.023632292 [0.9005327] [1.4591082]\n",
      "280 0.020638283 [0.9070469] [1.43559]\n",
      "300 0.01802353 [0.9131346] [1.4136119]\n",
      "320 0.015740097 [0.9188234] [1.3930732]\n",
      "340 0.013745969 [0.9241397] [1.3738798]\n",
      "360 0.012004473 [0.9291078] [1.3559433]\n",
      "380 0.010483586 [0.93375057] [1.3391813]\n",
      "400 0.0091553675 [0.9380893] [1.3235171]\n",
      "420 0.007995456 [0.9421439] [1.3088788]\n",
      "440 0.0069825053 [0.9459329] [1.295199]\n",
      "460 0.006097854 [0.9494739] [1.2824153]\n",
      "480 0.0053253165 [0.95278287] [1.2704688]\n",
      "500 0.00465063 [0.95587516] [1.2593045]\n",
      "520 0.0040614298 [0.958765] [1.2488716]\n",
      "540 0.0035468724 [0.9614654] [1.2391218]\n",
      "560 0.0030975204 [0.96398914] [1.2300107]\n",
      "580 0.002705085 [0.96634746] [1.2214961]\n",
      "600 0.0023623686 [0.9685514] [1.2135392]\n",
      "620 0.0020630762 [0.97061104] [1.2061036]\n",
      "640 0.0018016982 [0.97253567] [1.1991546]\n",
      "660 0.0015734339 [0.9743345] [1.1926608]\n",
      "680 0.0013740857 [0.97601527] [1.1865925]\n",
      "700 0.0012000118 [0.97758603] [1.1809216]\n",
      "720 0.0010479732 [0.9790539] [1.1756219]\n",
      "740 0.00091520685 [0.98042566] [1.1706696]\n",
      "760 0.00079925824 [0.9817076] [1.1660414]\n",
      "780 0.00069800374 [0.98290557] [1.1617165]\n",
      "800 0.0006095742 [0.984025] [1.1576747]\n",
      "820 0.00053235004 [0.98507124] [1.1538975]\n",
      "840 0.00046489947 [0.986049] [1.1503676]\n",
      "860 0.00040599838 [0.9869627] [1.1470689]\n",
      "880 0.0003545641 [0.98781645] [1.1439863]\n",
      "900 0.0003096384 [0.9886144] [1.1411054]\n",
      "920 0.00027041035 [0.9893601] [1.1384134]\n",
      "940 0.00023614899 [0.99005693] [1.1358976]\n",
      "960 0.00020623064 [0.9907081] [1.1335466]\n",
      "980 0.00018010696 [0.9913166] [1.1313498]\n",
      "1000 0.00015728691 [0.99188524] [1.1292968]\n",
      "1020 0.00013736336 [0.9924167] [1.1273782]\n",
      "1040 0.000119955876 [0.9929133] [1.125585]\n",
      "1060 0.0001047611 [0.99337745] [1.1239095]\n",
      "1080 9.148783e-05 [0.99381113] [1.1223435]\n",
      "1100 7.989751e-05 [0.9942165] [1.1208804]\n",
      "1120 6.977583e-05 [0.9945952] [1.119513]\n",
      "1140 6.0936844e-05 [0.9949491] [1.1182351]\n",
      "1160 5.3216656e-05 [0.9952799] [1.1170409]\n",
      "1180 4.647592e-05 [0.9955891] [1.115925]\n",
      "1200 4.0584757e-05 [0.9958779] [1.1148818]\n",
      "1220 3.5444664e-05 [0.99614793] [1.1139071]\n",
      "1240 3.0953146e-05 [0.9964002] [1.1129965]\n",
      "1260 2.7031248e-05 [0.9966359] [1.1121452]\n",
      "1280 2.3607068e-05 [0.9968563] [1.1113498]\n",
      "1300 2.0616702e-05 [0.9970621] [1.1106066]\n",
      "1320 1.8003479e-05 [0.9972546] [1.1099116]\n",
      "1340 1.5723483e-05 [0.9974344] [1.1092626]\n",
      "1360 1.3730397e-05 [0.9976024] [1.1086559]\n",
      "1380 1.199027e-05 [0.9977595] [1.1080889]\n",
      "1400 1.0471488e-05 [0.99790627] [1.107559]\n",
      "1420 9.144218e-06 [0.9980434] [1.1070639]\n",
      "1440 7.985947e-06 [0.9981715] [1.1066012]\n",
      "1460 6.9745474e-06 [0.9982913] [1.1061689]\n",
      "1480 6.0908105e-06 [0.9984032] [1.1057649]\n",
      "1500 5.3189315e-06 [0.99850774] [1.1053874]\n",
      "1520 4.645141e-06 [0.99860543] [1.1050346]\n",
      "1540 4.056502e-06 [0.9986968] [1.1047049]\n",
      "1560 3.542771e-06 [0.99878216] [1.1043967]\n",
      "1580 3.0936965e-06 [0.99886197] [1.1041087]\n",
      "1600 2.7013884e-06 [0.9989365] [1.1038395]\n",
      "1620 2.3592902e-06 [0.9990062] [1.103588]\n",
      "1640 2.0603663e-06 [0.99907124] [1.1033531]\n",
      "1660 1.7993773e-06 [0.99913204] [1.1031336]\n",
      "1680 1.5716116e-06 [0.99918884] [1.1029284]\n",
      "1700 1.3727055e-06 [0.99924195] [1.1027367]\n",
      "1720 1.1983848e-06 [0.9992916] [1.1025573]\n",
      "1740 1.0465926e-06 [0.9993381] [1.1023898]\n",
      "1760 9.1409566e-07 [0.99938136] [1.1022332]\n",
      "1780 7.980655e-07 [0.9994219] [1.102087]\n",
      "1800 6.972597e-07 [0.9994598] [1.1019503]\n",
      "1820 6.089602e-07 [0.99949515] [1.1018226]\n",
      "1840 5.317124e-07 [0.99952817] [1.1017033]\n",
      "1860 4.6423423e-07 [0.99955904] [1.1015917]\n",
      "1880 4.0545706e-07 [0.999588] [1.1014875]\n",
      "1900 3.5420118e-07 [0.9996149] [1.10139]\n",
      "1920 3.0926938e-07 [0.99964017] [1.101299]\n",
      "1940 2.699815e-07 [0.9996637] [1.1012138]\n",
      "1960 2.3590515e-07 [0.9996857] [1.1011344]\n",
      "1980 2.0591725e-07 [0.9997064] [1.1010602]\n",
      "2000 1.7989325e-07 [0.9997256] [1.1009908]\n",
      "테스트 결과는  [6.0996184]\n",
      "테스트 결과는  [3.6003046]\n",
      "테스트 결과는  [2.6005793 4.6000304]\n"
     ]
    }
   ],
   "source": [
    "# Now we can use x and y in place of x_data and y_data\n",
    "# # placeholders for a tensor that will be always fed using feed_dict\n",
    "# See http://stackoverflow.com/questions/336693740/\n",
    "w = tf.Variable(tf.random_normal([1]), name='weight') # 1차원 array에 대한 랜덤값을 넣어줌\n",
    "b = tf.Variable(tf.random_normal([1]), name='bias')\n",
    "x = tf.placeholder(tf.float32, shape=[None])\n",
    "y = tf.placeholder(tf.float32, shape=[None])\n",
    "\n",
    "# Our hypothesis xw+b\n",
    "hypothesis = x * w + b\n",
    "\n",
    "# cost/loss function\n",
    "cost = tf.reduce_mean(tf.square(hypothesis - y)) # 평균을 내줌\n",
    "\n",
    "# minimize\n",
    "optimizer = tf.train.GradientDescentOptimizer(learning_rate=0.01)\n",
    "train = optimizer.minimize(cost)\n",
    "\n",
    "# launch the graph in a session\n",
    "sess = tf.Session()\n",
    "# initializes global variables in the graph\n",
    "sess.run(tf.global_variables_initializer())\n",
    "\n",
    "# fit the line with new training data\n",
    "for step in range(2001):\n",
    "    cost_val, w_val, b_val, _ = sess.run([cost, w , b, train],\n",
    "                                        feed_dict={x: [1,2,3,4,5], y:[2.1,3.1,4.1,5.1,6.1]}) # _ 변수는 필요없다는 의미\n",
    "    if step % 20 == 0:\n",
    "        print(step, cost_val, w_val, b_val)\n",
    "        \n",
    "# Testing our model\n",
    "print(\"테스트 결과는 \",sess.run(hypothesis, feed_dict={x:[5]}))\n",
    "print(\"테스트 결과는 \",sess.run(hypothesis, feed_dict={x:[2.5]}))\n",
    "print(\"테스트 결과는 \",sess.run(hypothesis, feed_dict={x:[1.5, 3.5]}))"
   ]
  },
  {
   "cell_type": "code",
   "execution_count": 12,
   "metadata": {
    "collapsed": true
   },
   "outputs": [],
   "source": [
    "### lab3\n",
    "## 경사하강법이 잘 적용되는지 확인\n",
    "import matplotlib.pyplot as plt\n",
    "\n",
    "x=[1,2,3]\n",
    "y=[1,2,3]\n",
    "\n",
    "w = tf.placeholder(tf.float32)\n",
    "# Our hypothesis f or linear model X*W\n",
    "hypothesis = x*w"
   ]
  },
  {
   "cell_type": "code",
   "execution_count": 13,
   "metadata": {
    "collapsed": true
   },
   "outputs": [],
   "source": [
    "# cost/loss function\n",
    "cost = tf.reduce_mean(tf.square(hypothesis-y))"
   ]
  },
  {
   "cell_type": "code",
   "execution_count": 14,
   "metadata": {
    "collapsed": true
   },
   "outputs": [],
   "source": [
    "# Launch the graph in a session.\n",
    "sess = tf.Session()\n",
    "# Initializess global variables in the graph.\n",
    "sess.run(tf.global_variables_initializer())"
   ]
  },
  {
   "cell_type": "code",
   "execution_count": 15,
   "metadata": {
    "collapsed": true
   },
   "outputs": [],
   "source": [
    "# Variables for plotting cost function\n",
    "w_val = []\n",
    "cost_val = []\n",
    "for i in range(-30, 50):\n",
    "    feed_w = i * 0.1\n",
    "    curr_cost, curr_w = sess.run([cost, w], feed_dict={w: feed_w})\n",
    "    w_val.append(curr_w)\n",
    "    cost_val.append(curr_cost)"
   ]
  },
  {
   "cell_type": "code",
   "execution_count": 16,
   "metadata": {},
   "outputs": [
    {
     "data": {
      "image/png": "[encoded data removed]",
      "text/plain": [
       "<Figure size 432x288 with 1 Axes>"
      ]
     },
     "metadata": {},
     "output_type": "display_data"
    }
   ],
   "source": [
    "# Show the cost function\n",
    "plt.plot(w_val, cost_val)\n",
    "plt.show()"
   ]
  },
  {
   "cell_type": "code",
   "execution_count": 17,
   "metadata": {
    "collapsed": true
   },
   "outputs": [],
   "source": [
    "## 최소화 모델\n",
    "x_data = [1,2,3]\n",
    "y_data = [1,2,3]\n",
    "\n",
    "w = tf.Variable(tf.random_normal([1]), name='weight')\n",
    "x = tf.placeholder(tf.float32)\n",
    "y = tf.placeholder(tf.float32)"
   ]
  },
  {
   "cell_type": "code",
   "execution_count": 18,
   "metadata": {
    "collapsed": true
   },
   "outputs": [],
   "source": [
    "# Our hypothesis for linear model X*W\n",
    "hypothesis = x*w\n",
    "# cost/loss function\n",
    "cost = tf.reduce_sum(tf.square(hypothesis - y))"
   ]
  },
  {
   "cell_type": "code",
   "execution_count": 19,
   "metadata": {
    "collapsed": true
   },
   "outputs": [],
   "source": [
    "# Minimize : Gradient Descent using derivative: W -= learning_rate * derivative\n",
    "learning_rate = 0.1\n",
    "gradient = tf.reduce_mean((w*x - y) * x)\n",
    "descent = w - learning_rate * gradient\n",
    "update = w.assign(descent)"
   ]
  },
  {
   "cell_type": "code",
   "execution_count": 20,
   "metadata": {},
   "outputs": [
    {
     "name": "stdout",
     "output_type": "stream",
     "text": [
      "0 9.15367 [0.19140023]\n",
      "1 2.6037104 [0.5687468]\n",
      "2 0.7406109 [0.7699983]\n",
      "3 0.2106626 [0.87733245]\n",
      "4 0.059921816 [0.9345773]\n",
      "5 0.017044473 [0.96510786]\n",
      "6 0.0048482283 [0.98139083]\n",
      "7 0.0013790478 [0.9900751]\n",
      "8 0.00039225517 [0.99470675]\n",
      "9 0.00011157393 [0.99717695]\n",
      "10 3.17362e-05 [0.9984944]\n",
      "11 9.027186e-06 [0.999197]\n",
      "12 2.5678382e-06 [0.99957174]\n",
      "13 7.303638e-07 [0.9997716]\n",
      "14 2.0780215e-07 [0.99987817]\n",
      "15 5.914019e-08 [0.99993503]\n",
      "16 1.6801994e-08 [0.99996537]\n",
      "17 4.766619e-09 [0.9999815]\n",
      "18 1.3635173e-09 [0.9999901]\n",
      "19 3.9587533e-10 [0.9999947]\n",
      "20 1.0887291e-10 [0.9999972]\n"
     ]
    }
   ],
   "source": [
    "# Launch the graph in a session\n",
    "sess = tf.Session()\n",
    "# Initializes global variables in the graph.\n",
    "sess.run(tf.global_variables_initializer())\n",
    "for step in range(21):\n",
    "    sess.run(update, feed_dict={x:x_data, y:y_data})\n",
    "    print(step, sess.run(cost, feed_dict={x:x_data, y:y_data}), sess.run(w))"
   ]
  },
  {
   "cell_type": "code",
   "execution_count": null,
   "metadata": {
    "collapsed": true
   },
   "outputs": [],
   "source": []
  }
 ],
 "metadata": {
  "kernelspec": {
   "display_name": "helloTF",
   "language": "python",
   "name": "hellotf"
  },
  "language_info": {
   "codemirror_mode": {
    "name": "ipython",
    "version": 3
   },
   "file_extension": ".py",
   "mimetype": "text/x-python",
   "name": "python",
   "nbconvert_exporter": "python",
   "pygments_lexer": "ipython3",
   "version": "3.5.5"
  }
 },
 "nbformat": 4,
 "nbformat_minor": 2
}
