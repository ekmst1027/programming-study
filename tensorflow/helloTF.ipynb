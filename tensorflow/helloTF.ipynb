{
 "cells": [
  {
   "cell_type": "code",
   "execution_count": 1,
   "metadata": {},
   "outputs": [
    {
     "data": {
      "text/plain": [
       "'1.6.0'"
      ]
     },
     "execution_count": 1,
     "metadata": {},
     "output_type": "execute_result"
    }
   ],
   "source": [
    "### python 3.5 version\n",
    "### virtualEnv_name is helloTF\n",
    "\n",
    "import tensorflow as tf\n",
    "tf.__version__"
   ]
  },
  {
   "cell_type": "code",
   "execution_count": 2,
   "metadata": {},
   "outputs": [
    {
     "name": "stdout",
     "output_type": "stream",
     "text": [
      "b'Hello, TensorFlow!'\n"
     ]
    }
   ],
   "source": [
    "# Create a constant op\n",
    "# This op is added as a node to the default graph\n",
    "hello = tf.constant(\"Hello, TensorFlow!\")\n",
    "\n",
    "# seart a TF session\n",
    "sess = tf.Session()\n",
    "\n",
    "# run the op and get result\n",
    "print(sess.run(hello))"
   ]
  },
  {
   "cell_type": "code",
   "execution_count": 3,
   "metadata": {
    "collapsed": true
   },
   "outputs": [],
   "source": [
    "## 더하기 예제\n",
    "# Build graph (tensor) using TensorFlow operations\n",
    "node1 = tf.constant(3.0, tf.float32)\n",
    "node2 = tf.constant(4.0) # also tf.float32 implicitly\n",
    "node3 = tf.add(node1, node2)"
   ]
  },
  {
   "cell_type": "code",
   "execution_count": 4,
   "metadata": {},
   "outputs": [
    {
     "name": "stdout",
     "output_type": "stream",
     "text": [
      "node1: Tensor(\"Const_1:0\", shape=(), dtype=float32) node2: Tensor(\"Const_2:0\", shape=(), dtype=float32)\n",
      "node3: Tensor(\"Add:0\", shape=(), dtype=float32)\n"
     ]
    }
   ],
   "source": [
    "print(\"node1: {} node2: {}\".format(node1,node2))\n",
    "print(\"node3: {}\".format(node3))"
   ]
  },
  {
   "cell_type": "code",
   "execution_count": 5,
   "metadata": {},
   "outputs": [
    {
     "name": "stdout",
     "output_type": "stream",
     "text": [
      "sess.run(node1, node2): \n",
      "sess.run(node3):  7.0\n"
     ]
    }
   ],
   "source": [
    "# feed data and run graph (operation) sess.run(op)\n",
    "sess = tf.Session() \n",
    "print(\"sess.run(node1, node2): \".format(sess.run([node1, node2])))\n",
    "print(\"sess.run(node3): \", sess.run(node3))"
   ]
  },
  {
   "cell_type": "code",
   "execution_count": 6,
   "metadata": {},
   "outputs": [
    {
     "name": "stdout",
     "output_type": "stream",
     "text": [
      "7.5\n",
      "[3. 7.]\n"
     ]
    }
   ],
   "source": [
    "# placeholder(상수가 아닌 변수를 만들어줌)\n",
    "a = tf.placeholder(tf.float32)\n",
    "b = tf.placeholder(tf.float32)\n",
    "adder_node = a + b # + provides a shortcut for tf.add(a,b)\n",
    "\n",
    "print(sess.run(adder_node, feed_dict={a: 3, b:4.5}))\n",
    "print(sess.run(adder_node, feed_dict={a:[1,3], b:[2,4]}))"
   ]
  },
  {
   "cell_type": "code",
   "execution_count": 7,
   "metadata": {
    "collapsed": true
   },
   "outputs": [],
   "source": [
    "### Lab2\n",
    "### Linear Regression\n",
    "\n",
    "## 1. Build graph using TF operations\n",
    "# X and Y data\n",
    "x_train = [1, 2, 3]\n",
    "y_train = [1, 2, 3]\n",
    "\n",
    "# tf.Variable의 의미는 tesnsorflow가 사용하는 변수라는 의미 or trainable variable\n",
    "w = tf.Variable(tf.random_normal([1]), name='weight') # 1차원 array에 대한 랜덤값을 넣어줌\n",
    "b = tf.Variable(tf.random_normal([1]), name='bias')\n",
    "# Our hypothesis Xw+b\n",
    "hypothesis = x_train * w + b"
   ]
  },
  {
   "cell_type": "code",
   "execution_count": 8,
   "metadata": {
    "collapsed": true
   },
   "outputs": [],
   "source": [
    "# cost/loss funtion\n",
    "cost = tf.reduce_mean(tf.square(hypothesis - y_train)) # 평균을 내줌"
   ]
  },
  {
   "cell_type": "code",
   "execution_count": 9,
   "metadata": {
    "collapsed": true
   },
   "outputs": [],
   "source": [
    "# Minimize(GradientDescent)\n",
    "optimizer = tf.train.GradientDescentOptimizer(learning_rate=0.01)\n",
    "train = optimizer.minimize(cost)"
   ]
  },
  {
   "cell_type": "code",
   "execution_count": 10,
   "metadata": {},
   "outputs": [
    {
     "name": "stdout",
     "output_type": "stream",
     "text": [
      "0 1.564537 [0.2715283] [0.3565996]\n",
      "20 0.05569449 [0.71657777] [0.5205586]\n",
      "40 0.038204353 [0.76901495] [0.5133021]\n",
      "60 0.034585577 [0.7835952] [0.49081728]\n",
      "80 0.031410143 [0.7941201] [0.46790662]\n",
      "100 0.028527208 [0.80382943] [0.4459316]\n",
      "120 0.02590886 [0.81305194] [0.42497584]\n",
      "140 0.02353082 [0.82183814] [0.40500367]\n",
      "160 0.02137109 [0.8302111] [0.38596997]\n",
      "180 0.019409569 [0.83819056] [0.36783084]\n",
      "200 0.017628083 [0.8457949] [0.3505442]\n",
      "220 0.016010119 [0.853042] [0.33406997]\n",
      "240 0.0145406565 [0.8599485] [0.31836993]\n",
      "260 0.013206038 [0.8665304] [0.30340767]\n",
      "280 0.011993922 [0.87280303] [0.28914857]\n",
      "300 0.010893094 [0.8787808] [0.2755597]\n",
      "320 0.009893266 [0.8844777] [0.2626094]\n",
      "340 0.008985223 [0.8899068] [0.25026768]\n",
      "360 0.008160518 [0.8950808] [0.238506]\n",
      "380 0.0074115214 [0.9000116] [0.22729711]\n",
      "400 0.006731266 [0.90471065] [0.21661498]\n",
      "420 0.0061134393 [0.9091889] [0.20643494]\n",
      "440 0.0055523277 [0.91345674] [0.19673325]\n",
      "460 0.005042707 [0.9175239] [0.1874875]\n",
      "480 0.0045798705 [0.9214] [0.17867626]\n",
      "500 0.0041595087 [0.92509395] [0.17027913]\n",
      "520 0.003777732 [0.9286142] [0.16227666]\n",
      "540 0.0034310098 [0.93196905] [0.15465029]\n",
      "560 0.0031160954 [0.9351663] [0.14738229]\n",
      "580 0.0028300807 [0.93821317] [0.14045587]\n",
      "600 0.0025703227 [0.9411169] [0.13385502]\n",
      "620 0.0023344145 [0.94388425] [0.12756434]\n",
      "640 0.0021201542 [0.94652146] [0.12156928]\n",
      "660 0.0019255561 [0.9490347] [0.11585598]\n",
      "680 0.0017488181 [0.95142996] [0.11041117]\n",
      "700 0.0015883092 [0.9537125] [0.10522225]\n",
      "720 0.001442524 [0.95588785] [0.10027719]\n",
      "740 0.0013101251 [0.957961] [0.09556456]\n",
      "760 0.0011898765 [0.9599367] [0.09107342]\n",
      "780 0.0010806656 [0.96181947] [0.0867933]\n",
      "800 0.0009814803 [0.9636138] [0.08271435]\n",
      "820 0.0008913951 [0.9653238] [0.07882708]\n",
      "840 0.0008095799 [0.96695346] [0.07512253]\n",
      "860 0.0007352731 [0.96850646] [0.07159207]\n",
      "880 0.0006677901 [0.9699865] [0.06822756]\n",
      "900 0.0006064981 [0.9713971] [0.06502111]\n",
      "920 0.00055083033 [0.97274137] [0.06196532]\n",
      "940 0.0005002719 [0.9740224] [0.05905318]\n",
      "960 0.00045435491 [0.9752433] [0.05627789]\n",
      "980 0.0004126537 [0.97640675] [0.05363304]\n",
      "1000 0.00037477756 [0.9775155] [0.05111248]\n",
      "1020 0.00034037884 [0.97857213] [0.04871039]\n",
      "1040 0.00030913658 [0.97957927] [0.04642121]\n",
      "1060 0.0002807649 [0.980539] [0.04423952]\n",
      "1080 0.00025499167 [0.9814536] [0.04216039]\n",
      "1100 0.00023158792 [0.9823252] [0.04017901]\n",
      "1120 0.00021033175 [0.9831559] [0.03829073]\n",
      "1140 0.00019102865 [0.98394746] [0.0364912]\n",
      "1160 0.0001734956 [0.9847018] [0.03477626]\n",
      "1180 0.00015756901 [0.9854208] [0.03314189]\n",
      "1200 0.00014310757 [0.98610604] [0.03158433]\n",
      "1220 0.00012997225 [0.986759] [0.03009996]\n",
      "1240 0.00011804324 [0.9873813] [0.02868536]\n",
      "1260 0.00010720699 [0.9879743] [0.02733722]\n",
      "1280 9.736829e-05 [0.98853946] [0.02605246]\n",
      "1300 8.843077e-05 [0.9890781] [0.02482813]\n",
      "1320 8.03151e-05 [0.9895913] [0.02366135]\n",
      "1340 7.29425e-05 [0.99008065] [0.0225493]\n",
      "1360 6.6247485e-05 [0.99054676] [0.02148952]\n",
      "1380 6.016753e-05 [0.99099106] [0.02047956]\n",
      "1400 5.4644897e-05 [0.9914144] [0.01951708]\n",
      "1420 4.9629696e-05 [0.9918179] [0.01859985]\n",
      "1440 4.5074776e-05 [0.99220246] [0.01772572]\n",
      "1460 4.0937495e-05 [0.99256885] [0.01689268]\n",
      "1480 3.7179056e-05 [0.99291813] [0.01609878]\n",
      "1500 3.376687e-05 [0.99325097] [0.01534218]\n",
      "1520 3.0667903e-05 [0.9935682] [0.01462113]\n",
      "1540 2.7853173e-05 [0.99387044] [0.01393397]\n",
      "1560 2.5296424e-05 [0.99415845] [0.01327914]\n",
      "1580 2.2974755e-05 [0.994433] [0.0126551]\n",
      "1600 2.0866515e-05 [0.9946946] [0.01206036]\n",
      "1620 1.8950728e-05 [0.9949439] [0.01149359]\n",
      "1640 1.7211676e-05 [0.9951816] [0.01095344]\n",
      "1660 1.5631804e-05 [0.99540806] [0.01043866]\n",
      "1680 1.4196885e-05 [0.9956238] [0.00994806]\n",
      "1700 1.2894186e-05 [0.9958295] [0.00948052]\n",
      "1720 1.1710618e-05 [0.9960255] [0.00903496]\n",
      "1740 1.0635792e-05 [0.99621224] [0.00861035]\n",
      "1760 9.659696e-06 [0.9963903] [0.00820571]\n",
      "1780 8.772629e-06 [0.9965599] [0.00782007]\n",
      "1800 7.9680285e-06 [0.9967216] [0.00745255]\n",
      "1820 7.236534e-06 [0.9968757] [0.0071023]\n",
      "1840 6.5722284e-06 [0.9970225] [0.00676851]\n",
      "1860 5.968735e-06 [0.99716246] [0.00645042]\n",
      "1880 5.4211537e-06 [0.99729574] [0.00614729]\n",
      "1900 4.9234613e-06 [0.9974229] [0.0058584]\n",
      "1920 4.47185e-06 [0.997544] [0.00558309]\n",
      "1940 4.0610826e-06 [0.99765944] [0.0053207]\n",
      "1960 3.6885483e-06 [0.99776936] [0.00507066]\n",
      "1980 3.3500737e-06 [0.9978742] [0.00483238]\n",
      "2000 3.0424483e-06 [0.9979741] [0.00460528]\n"
     ]
    }
   ],
   "source": [
    "## 2. Run/update graph and get results\n",
    "# Launch the graph in a session\n",
    "sess = tf.Session()\n",
    "# Initializes global variables in the graph - 사용하기 전에 변수 초기화가 필요함.\n",
    "sess.run(tf.global_variables_initializer())\n",
    "\n",
    "# Fit the line\n",
    "for step in range(2001):\n",
    "    sess.run(train)\n",
    "    if step % 20 == 0:\n",
    "        print(step, sess.run(cost), sess.run(w), sess.run(b))"
   ]
  },
  {
   "cell_type": "code",
   "execution_count": 11,
   "metadata": {},
   "outputs": [
    {
     "name": "stdout",
     "output_type": "stream",
     "text": [
      "0 46.906 [-0.8183826] [1.9892571]\n",
      "20 0.26878667 [0.65854657] [2.3071198]\n",
      "40 0.23390321 [0.6870416] [2.2297633]\n",
      "60 0.20426941 [0.7075652] [2.1557817]\n",
      "80 0.17839006 [0.7267171] [2.086638]\n",
      "100 0.1557894 [0.74461454] [2.0220225]\n",
      "120 0.13605201 [0.76133996] [1.9616383]\n",
      "140 0.11881522 [0.77697] [1.9052091]\n",
      "160 0.10376225 [0.7915764] [1.8524753]\n",
      "180 0.090616375 [0.80522615] [1.8031954]\n",
      "200 0.07913603 [0.817982] [1.7571425]\n",
      "220 0.06911 [0.8299025] [1.7141056]\n",
      "240 0.06035433 [0.84104234] [1.6738874]\n",
      "260 0.05270789 [0.8514526] [1.6363032]\n",
      "280 0.046030164 [0.86118114] [1.6011803]\n",
      "300 0.040198527 [0.87027246] [1.5683576]\n",
      "320 0.035105694 [0.87876844] [1.5376844]\n",
      "340 0.030658048 [0.8867079] [1.50902]\n",
      "360 0.026773904 [0.89412755] [1.4822332]\n",
      "380 0.023381796 [0.9010612] [1.4572002]\n",
      "400 0.020419553 [0.90754074] [1.4338071]\n",
      "420 0.017832553 [0.913596] [1.4119459]\n",
      "440 0.015573293 [0.91925466] [1.3915162]\n",
      "460 0.013600254 [0.92454284] [1.3724242]\n",
      "480 0.011877182 [0.92948455] [1.354583]\n",
      "500 0.0103724655 [0.9341026] [1.3379104]\n",
      "520 0.0090583395 [0.9384183] [1.3223294]\n",
      "540 0.007910715 [0.94245136] [1.3077687]\n",
      "560 0.0069084703 [0.94622034] [1.2941617]\n",
      "580 0.0060332175 [0.9497424] [1.2814457]\n",
      "600 0.0052688248 [0.95303386] [1.2695625]\n",
      "620 0.0046013207 [0.9561097] [1.2584578]\n",
      "640 0.0040183617 [0.95898414] [1.2480801]\n",
      "660 0.0035092612 [0.9616703] [1.2383823]\n",
      "680 0.0030646701 [0.9641805] [1.2293196]\n",
      "700 0.0026763913 [0.96652645] [1.2208501]\n",
      "720 0.0023373056 [0.9687187] [1.2129353]\n",
      "740 0.0020411906 [0.9707673] [1.2055392]\n",
      "760 0.0017825954 [0.9726817] [1.1986275]\n",
      "780 0.0015567408 [0.9744709] [1.1921681]\n",
      "800 0.0013595195 [0.97614276] [1.1861321]\n",
      "820 0.001187263 [0.9777053] [1.1804907]\n",
      "840 0.0010368471 [0.97916543] [1.1752193]\n",
      "860 0.0009054823 [0.9805299] [1.1702932]\n",
      "880 0.00079076877 [0.981805] [1.1656897]\n",
      "900 0.0006905844 [0.9829966] [1.1613876]\n",
      "920 0.00060309423 [0.9841101] [1.1573672]\n",
      "940 0.0005266845 [0.9851509] [1.1536101]\n",
      "960 0.00045995973 [0.98612326] [1.1500992]\n",
      "980 0.0004016813 [0.9870321] [1.1468182]\n",
      "1000 0.0003507933 [0.9878814] [1.143752]\n",
      "1020 0.0003063519 [0.988675] [1.1408867]\n",
      "1040 0.0002675412 [0.9894167] [1.138209]\n",
      "1060 0.00023364378 [0.99010986] [1.1357067]\n",
      "1080 0.00020404211 [0.9907575] [1.1333681]\n",
      "1100 0.00017819351 [0.9913628] [1.131183]\n",
      "1120 0.00015562035 [0.99192846] [1.1291409]\n",
      "1140 0.00013590135 [0.9924571] [1.1272322]\n",
      "1160 0.000118680895 [0.99295115] [1.1254486]\n",
      "1180 0.000103646285 [0.99341273] [1.123782]\n",
      "1200 9.051522e-05 [0.99384415] [1.1222246]\n",
      "1220 7.905053e-05 [0.9942472] [1.1207693]\n",
      "1240 6.903684e-05 [0.9946239] [1.1194092]\n",
      "1260 6.0289887e-05 [0.9949761] [1.1181381]\n",
      "1280 5.2649586e-05 [0.9953051] [1.1169502]\n",
      "1300 4.598015e-05 [0.99561256] [1.1158401]\n",
      "1320 4.015504e-05 [0.99589986] [1.1148027]\n",
      "1340 3.5069203e-05 [0.9961684] [1.1138333]\n",
      "1360 3.0625633e-05 [0.9964193] [1.1129274]\n",
      "1380 2.6746615e-05 [0.99665374] [1.1120809]\n",
      "1400 2.3356846e-05 [0.9968729] [1.1112897]\n",
      "1420 2.0399011e-05 [0.9970777] [1.1105505]\n",
      "1440 1.7816372e-05 [0.9972689] [1.10986]\n",
      "1460 1.5557907e-05 [0.9974478] [1.1092141]\n",
      "1480 1.3587499e-05 [0.9976149] [1.1086106]\n",
      "1500 1.1865498e-05 [0.9977712] [1.1080467]\n",
      "1520 1.0362457e-05 [0.9979171] [1.1075197]\n",
      "1540 9.049477e-06 [0.99805355] [1.1070273]\n",
      "1560 7.903359e-06 [0.998181] [1.106567]\n",
      "1580 6.902007e-06 [0.99830014] [1.106137]\n",
      "1600 6.0280977e-06 [0.9984114] [1.1057352]\n",
      "1620 5.2637292e-06 [0.9985154] [1.1053594]\n",
      "1640 4.5974484e-06 [0.99861264] [1.1050087]\n",
      "1660 4.014877e-06 [0.99870354] [1.1046807]\n",
      "1680 3.5062924e-06 [0.9987884] [1.1043742]\n",
      "1700 3.0620217e-06 [0.9988678] [1.1040876]\n",
      "1720 2.6742125e-06 [0.99894196] [1.1038198]\n",
      "1740 2.3351326e-06 [0.9990112] [1.1035696]\n",
      "1760 2.0391212e-06 [0.99907607] [1.1033356]\n",
      "1780 1.7807703e-06 [0.99913657] [1.1031171]\n",
      "1800 1.554988e-06 [0.99919313] [1.102913]\n",
      "1820 1.3582545e-06 [0.99924594] [1.1027223]\n",
      "1840 1.1861696e-06 [0.9992953] [1.1025441]\n",
      "1860 1.0358723e-06 [0.9993415] [1.1023774]\n",
      "1880 9.045266e-07 [0.9993846] [1.1022217]\n",
      "1900 7.9012204e-07 [0.99942493] [1.1020763]\n",
      "1920 6.8986753e-07 [0.99946254] [1.1019403]\n",
      "1940 6.025256e-07 [0.9994977] [1.1018132]\n",
      "1960 5.2619487e-07 [0.9995306] [1.1016945]\n",
      "1980 4.595996e-07 [0.9995613] [1.1015835]\n",
      "2000 4.0128734e-07 [0.9995901] [1.1014798]\n",
      "테스트 결과는  [6.09943]\n",
      "테스트 결과는  [3.600455]\n",
      "테스트 결과는  [2.600865 4.600045]\n"
     ]
    }
   ],
   "source": [
    "# Now we can use x and y in place of x_data and y_data\n",
    "# # placeholders for a tensor that will be always fed using feed_dict\n",
    "# See http://stackoverflow.com/questions/336693740/\n",
    "w = tf.Variable(tf.random_normal([1]), name='weight') # 1차원 array에 대한 랜덤값을 넣어줌\n",
    "b = tf.Variable(tf.random_normal([1]), name='bias')\n",
    "x = tf.placeholder(tf.float32, shape=[None])\n",
    "y = tf.placeholder(tf.float32, shape=[None])\n",
    "\n",
    "# Our hypothesis xw+b\n",
    "hypothesis = x * w + b\n",
    "\n",
    "# cost/loss function\n",
    "cost = tf.reduce_mean(tf.square(hypothesis - y)) # 평균을 내줌\n",
    "\n",
    "# minimize\n",
    "optimizer = tf.train.GradientDescentOptimizer(learning_rate=0.01)\n",
    "train = optimizer.minimize(cost)\n",
    "\n",
    "# launch the graph in a session\n",
    "sess = tf.Session()\n",
    "# initializes global variables in the graph\n",
    "sess.run(tf.global_variables_initializer())\n",
    "\n",
    "# fit the line with new training data\n",
    "for step in range(2001):\n",
    "    cost_val, w_val, b_val, _ = sess.run([cost, w , b, train],\n",
    "                                        feed_dict={x: [1,2,3,4,5], y:[2.1,3.1,4.1,5.1,6.1]}) # _ 변수는 필요없다는 의미\n",
    "    if step % 20 == 0:\n",
    "        print(step, cost_val, w_val, b_val)\n",
    "        \n",
    "# Testing our model\n",
    "print(\"테스트 결과는 \",sess.run(hypothesis, feed_dict={x:[5]}))\n",
    "print(\"테스트 결과는 \",sess.run(hypothesis, feed_dict={x:[2.5]}))\n",
    "print(\"테스트 결과는 \",sess.run(hypothesis, feed_dict={x:[1.5, 3.5]}))"
   ]
  },
  {
   "cell_type": "code",
   "execution_count": 12,
   "metadata": {
    "collapsed": true
   },
   "outputs": [],
   "source": [
    "### lab3\n",
    "## 경사하강법이 잘 적용되는지 확인\n",
    "import matplotlib.pyplot as plt\n",
    "\n",
    "x=[1,2,3]\n",
    "y=[1,2,3]\n",
    "\n",
    "w = tf.placeholder(tf.float32)\n",
    "# Our hypothesis f or linear model X*W\n",
    "hypothesis = x*w"
   ]
  },
  {
   "cell_type": "code",
   "execution_count": 13,
   "metadata": {
    "collapsed": true
   },
   "outputs": [],
   "source": [
    "# cost/loss function\n",
    "cost = tf.reduce_mean(tf.square(hypothesis-y))"
   ]
  },
  {
   "cell_type": "code",
   "execution_count": 14,
   "metadata": {
    "collapsed": true
   },
   "outputs": [],
   "source": [
    "# Launch the graph in a session.\n",
    "sess = tf.Session()\n",
    "# Initializess global variables in the graph.\n",
    "sess.run(tf.global_variables_initializer())"
   ]
  },
  {
   "cell_type": "code",
   "execution_count": 16,
   "metadata": {},
   "outputs": [],
   "source": [
    "# Variables for plotting cost function\n",
    "w_val = []\n",
    "cost_val = []\n",
    "for i in range(-30, 50):\n",
    "    feed_w = i * 0.1\n",
    "    curr_cost, curr_w = sess.run([cost, w], feed_dict={w: feed_w})\n",
    "    w_val.append(curr_w)\n",
    "    cost_val.append(curr_cost)"
   ]
  },
  {
   "cell_type": "code",
   "execution_count": 18,
   "metadata": {},
   "outputs": [
    {
     "data": {
      "image/png": "[encoded data removed]",
      "text/plain": [
       "<Figure size 432x288 with 1 Axes>"
      ]
     },
     "metadata": {},
     "output_type": "display_data"
    }
   ],
   "source": [
    "# Show the cost function\n",
    "plt.plot(w_val, cost_val)\n",
    "plt.show()"
   ]
  },
  {
   "cell_type": "code",
   "execution_count": 19,
   "metadata": {
    "collapsed": true
   },
   "outputs": [],
   "source": [
    "## 최소화 모델\n",
    "x_data = [1,2,3]\n",
    "y_data = [1,2,3]\n",
    "\n",
    "w = tf.Variable(tf.random_normal([1]), name='weight')\n",
    "x = tf.placeholder(tf.float32)\n",
    "y = tf.placeholder(tf.float32)"
   ]
  },
  {
   "cell_type": "code",
   "execution_count": 20,
   "metadata": {
    "collapsed": true
   },
   "outputs": [],
   "source": [
    "# Our hypothesis for linear model X*W\n",
    "hypothesis = x*w\n",
    "# cost/loss function\n",
    "cost = tf.reduce_sum(tf.square(hypothesis - y))"
   ]
  },
  {
   "cell_type": "code",
   "execution_count": 21,
   "metadata": {
    "collapsed": true
   },
   "outputs": [],
   "source": [
    "# Minimize : Gradient Descent using derivative: W -= learning_rate * derivative\n",
    "learning_rate = 0.1\n",
    "gradient = tf.reduce_mean((w*x - y) * x)\n",
    "descent = w - learning_rate * gradient\n",
    "update = w.assign(descent)"
   ]
  },
  {
   "cell_type": "code",
   "execution_count": 22,
   "metadata": {},
   "outputs": [
    {
     "name": "stdout",
     "output_type": "stream",
     "text": [
      "0 1.0782166 [1.2775166]\n",
      "1 0.30669257 [1.1480088]\n",
      "2 0.087236926 [1.078938]\n",
      "3 0.024814075 [1.0421003]\n",
      "4 0.0070582647 [1.0224535]\n",
      "5 0.002007657 [1.0119752]\n",
      "6 0.0005710693 [1.0063868]\n",
      "7 0.00016243901 [1.0034063]\n",
      "8 4.6200745e-05 [1.0018166]\n",
      "9 1.3143639e-05 [1.0009689]\n",
      "10 3.7383804e-06 [1.0005168]\n",
      "11 1.0634667e-06 [1.0002756]\n",
      "12 3.0256962e-07 [1.000147]\n",
      "13 8.613904e-08 [1.0000784]\n",
      "14 2.4481167e-08 [1.0000418]\n",
      "15 6.941221e-09 [1.0000223]\n",
      "16 1.9895197e-09 [1.0000119]\n",
      "17 5.6338934e-10 [1.0000063]\n",
      "18 1.5597834e-10 [1.0000033]\n",
      "19 4.3499426e-11 [1.0000018]\n",
      "20 1.2732926e-11 [1.000001]\n"
     ]
    }
   ],
   "source": [
    "# Launch the graph in a session\n",
    "sess = tf.Session()\n",
    "# Initializes global variables in the graph.\n",
    "sess.run(tf.global_variables_initializer())\n",
    "for step in range(21):\n",
    "    sess.run(update, feed_dict={x:x_data, y:y_data})\n",
    "    print(step, sess.run(cost, feed_dict={x:x_data, y:y_data}), sess.run(w))"
   ]
  },
  {
   "cell_type": "code",
   "execution_count": null,
   "metadata": {
    "collapsed": true
   },
   "outputs": [],
   "source": []
  },
  {
   "cell_type": "code",
   "execution_count": null,
   "metadata": {
    "collapsed": true
   },
   "outputs": [],
   "source": []
  }
 ],
 "metadata": {
  "kernelspec": {
   "display_name": "helloTF",
   "language": "python",
   "name": "hellotf"
  },
  "language_info": {
   "codemirror_mode": {
    "name": "ipython",
    "version": 3
   },
   "file_extension": ".py",
   "mimetype": "text/x-python",
   "name": "python",
   "nbconvert_exporter": "python",
   "pygments_lexer": "ipython3",
   "version": "3.5.5"
  }
 },
 "nbformat": 4,
 "nbformat_minor": 2
}
