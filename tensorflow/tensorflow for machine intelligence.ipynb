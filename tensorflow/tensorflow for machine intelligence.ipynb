{
 "cells": [
  {
   "cell_type": "code",
   "execution_count": 2,
   "metadata": {},
   "outputs": [
    {
     "data": {
      "text/plain": [
       "23"
      ]
     },
     "execution_count": 2,
     "metadata": {},
     "output_type": "execute_result"
    }
   ],
   "source": [
    "# import tensorflow as tf\n",
    "\n",
    "# # 첫 예제\n",
    "# a = tf.constant(5, name=\"input_a\")\n",
    "# b = tf.constant(3, name=\"input_b\")\n",
    "# c = tf.multiply(a,b, name=\"mul_c\")\n",
    "# d = tf.add(a,b, name=\"add_d\")\n",
    "# e = tf.add(c,d, name=\"add_e\")\n",
    "# sess = tf.Session()\n",
    "# sess.run(e)\n",
    "# writer = tf.summary.FileWriter('./my_graph', sess.graph)\n",
    "# sess.close()"
   ]
  },
  {
   "cell_type": "code",
   "execution_count": 16,
   "metadata": {},
   "outputs": [
    {
     "ename": "SyntaxError",
     "evalue": "positional argument follows keyword argument (<ipython-input-16-ba901696ed23>, line 41)",
     "output_type": "error",
     "traceback": [
      "\u001b[1;36m  File \u001b[1;32m\"<ipython-input-16-ba901696ed23>\"\u001b[1;36m, line \u001b[1;32m41\u001b[0m\n\u001b[1;33m    tf.summary.scalar(name=\"output_summary\",output)\u001b[0m\n\u001b[1;37m                                           ^\u001b[0m\n\u001b[1;31mSyntaxError\u001b[0m\u001b[1;31m:\u001b[0m positional argument follows keyword argument\n"
     ]
    }
   ],
   "source": [
    "import tensorflow as tf\n",
    "\n",
    "# Explicitly create a Graph object\n",
    "graph = tf.Graph()\n",
    "\n",
    "with graph.as_default():\n",
    "    with tf.name_scope(\"variables\"):\n",
    "        # Variable to keep tfack of how many times the graph has been run\n",
    "        global_step = tf.Variable(0, dtype=tf.int32, trainable=False, name=\"global_step\")\n",
    "        \n",
    "        # Variable that keeps track of the sum of all output values over time:\n",
    "        total_output = tf.Variable(0.0, dtype=tf.float32, trainable=False, name=\"total_output\")\n",
    "        \n",
    "        # Primary transformation Operations\n",
    "        with tf.name_scope(\"transformation\"):\n",
    "            # Separate input layer\n",
    "            with tf.name_scope(\"input\"):\n",
    "                # Create input placeholder-takes in a Vector\n",
    "                a = tf.placeholder(tf.float32, shape=[None], name=\"input_placeholder_a\")\n",
    "                \n",
    "            # Separate middle layer\n",
    "            with tf.name_scope(\"intermediate_layer\"):\n",
    "                b = tf.reduce_prod(a, name=\"product_b\")\n",
    "                c = tf.reduce_sum(a, name=\"sum_c\")\n",
    "                \n",
    "                # Seperate output layer\n",
    "                with tf.name_scope(\"output\"):\n",
    "                    output = tf.add(b, c, name=\"output\")\n",
    "                    \n",
    "                with tf.name_scope(\"update\"):\n",
    "                    # Increments the total_output Variable by the latest output\n",
    "                    update_total = total_output.assign_add(output)\n",
    "                    \n",
    "                    # Increments the above 'global_step' Cariable, should be run whenever the graph is run\n",
    "                    increment_step = global_step.assign_add(1)\n",
    "            # Summary Operations\n",
    "            with tf.name_scope(\"summaries\"):\n",
    "                avg = tf.div(update_total, tf.cast(increment_step, tf.float32), name=\"average\")\n",
    "                \n",
    "                # Creates summaries for output node\n",
    "                tf.summary.scalar(name=\"output_summary\",output)\n",
    "                tf.summary.scalar(name=\"total_summary\", update_total)\n",
    "                tf.summary.scalar(name=\"average_summary\", avg)\n",
    "            \n",
    "            # Global Variables and Operations\n",
    "            with tf.name_scope(\"global_ops\"):\n",
    "                # Initializtion Op\n",
    "                init = tf.initialize_all_variables()\n",
    "                # Merge all summaries into one Operation\n",
    "                merged_summaries = tf.merge_all_summaries()\n",
    "                    \n",
    "# Start a Session, using the explicitly created Graph\n",
    "sess = tf.Session(graph=graph)\n",
    "# Open a SummaryWriter to save summaries\n",
    "writer = tf.summary.FileWriter('./improved_graph', graph)\n",
    "\n",
    "# Initialize Variables\n",
    "sess.run(init)\n",
    "\n",
    "def run_graph(input_tensor):\n",
    "    # Helper function; runs the graph with given input tensor and saves summaries\n",
    "    feed_dict = {a: input_tensor}\n",
    "    _, step, summary = sess.run([output, increment_step, merged_summaries], feed_dict=feed_dict)\n",
    "    writer.add_summary(summary, global_step=step)\n",
    "    \n",
    "# Run the graph with various inputs\n",
    "run_graph([2,8])\n",
    "run_graph([3,1,3,3])\n",
    "run_graph([8])\n",
    "run_graph([1,2,3])\n",
    "run_graph([11,4])\n",
    "run_graph([4,1])\n",
    "run_graph([7,3,1])\n",
    "run_graph([6,3])\n",
    "run_graph([0,2])\n",
    "run_graph([4,5,6])\n",
    "\n",
    "# Write the summaries to disk\n",
    "writer.flush()\n",
    "\n",
    "# Close the SummaryWriter\n",
    "writer.close()\n",
    "\n",
    "# Close the session\n",
    "sess.close()               "
   ]
  },
  {
   "cell_type": "code",
   "execution_count": null,
   "metadata": {
    "collapsed": true
   },
   "outputs": [],
   "source": []
  },
  {
   "cell_type": "code",
   "execution_count": null,
   "metadata": {
    "collapsed": true
   },
   "outputs": [],
   "source": []
  },
  {
   "cell_type": "code",
   "execution_count": null,
   "metadata": {
    "collapsed": true
   },
   "outputs": [],
   "source": []
  },
  {
   "cell_type": "code",
   "execution_count": null,
   "metadata": {
    "collapsed": true
   },
   "outputs": [],
   "source": []
  },
  {
   "cell_type": "code",
   "execution_count": null,
   "metadata": {
    "collapsed": true
   },
   "outputs": [],
   "source": []
  },
  {
   "cell_type": "code",
   "execution_count": null,
   "metadata": {
    "collapsed": true
   },
   "outputs": [],
   "source": []
  },
  {
   "cell_type": "code",
   "execution_count": null,
   "metadata": {
    "collapsed": true
   },
   "outputs": [],
   "source": []
  },
  {
   "cell_type": "code",
   "execution_count": null,
   "metadata": {
    "collapsed": true
   },
   "outputs": [],
   "source": []
  },
  {
   "cell_type": "code",
   "execution_count": null,
   "metadata": {
    "collapsed": true
   },
   "outputs": [],
   "source": []
  }
 ],
 "metadata": {
  "kernelspec": {
   "display_name": "helloTF",
   "language": "python",
   "name": "hellotf"
  },
  "language_info": {
   "codemirror_mode": {
    "name": "ipython",
    "version": 3
   },
   "file_extension": ".py",
   "mimetype": "text/x-python",
   "name": "python",
   "nbconvert_exporter": "python",
   "pygments_lexer": "ipython3",
   "version": "3.5.5"
  }
 },
 "nbformat": 4,
 "nbformat_minor": 2
}
